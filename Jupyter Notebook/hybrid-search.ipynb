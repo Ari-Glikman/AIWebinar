{
 "cells": [
  {
   "cell_type": "markdown",
   "id": "a5eb6179-9308-41d3-9181-e113263239bf",
   "metadata": {
    "execution": {
     "iopub.execute_input": "2024-12-08T18:39:16.315978Z",
     "iopub.status.busy": "2024-12-08T18:39:16.315563Z",
     "iopub.status.idle": "2024-12-08T18:39:16.323650Z",
     "shell.execute_reply": "2024-12-08T18:39:16.321327Z",
     "shell.execute_reply.started": "2024-12-08T18:39:16.315931Z"
    }
   },
   "source": [
    "# Hybrid search demo\n",
    "\n",
    "Please run the `sql_demo.ipynb` notebook first to populate the `scotch_reviews` table. \n",
    "\n",
    "Alternatively, look at the bottom of this notebook for steps to manually create the table and take advantage of the new `EMBEDDING()` datatype and function.\n",
    "\n",
    "Now, let's establish a connection for use in this notebook."
   ]
  },
  {
   "cell_type": "code",
   "execution_count": 5,
   "id": "58f2a158-d1e7-465f-ae19-7a9475241b0f",
   "metadata": {
    "execution": {
     "iopub.execute_input": "2024-12-19T14:42:42.100621Z",
     "iopub.status.busy": "2024-12-19T14:42:42.099974Z",
     "iopub.status.idle": "2024-12-19T14:42:42.743606Z",
     "shell.execute_reply": "2024-12-19T14:42:42.742811Z",
     "shell.execute_reply.started": "2024-12-19T14:42:42.100427Z"
    }
   },
   "outputs": [],
   "source": [
    "import os, pandas as pd\n",
    "from sqlalchemy import create_engine, text\n",
    "\n",
    "username = 'superuser'\n",
    "password = 'SYS'\n",
    "hostname = os.getenv('IRIS_HOSTNAME', 'localhost')\n",
    "port = '51787' \n",
    "namespace = 'USER'\n",
    "CONNECTION_STRING = f\"iris://{username}:{password}@{hostname}:{port}/{namespace}\"\n",
    "\n",
    "engine = create_engine(CONNECTION_STRING)\n",
    "connection = engine.connect()"
   ]
  },
  {
   "cell_type": "markdown",
   "id": "360dbd16-777c-4a79-b7ba-f892fd2bb00a",
   "metadata": {},
   "source": [
    "## Adding the full text index\n",
    "\n",
    "Now let's create an iFind (aka [SQL Text Search](https://docs.intersystems.com/irislatest/csp/docbook/DocBook.UI.Page.cls?KEY=GSQLSRCH_txtsrch)) index on our scotch review column using the following command:\n",
    "```SQL\n",
    "CREATE INDEX ifind ON scotch_reviews(description) AS %iFind.Index.Basic\n",
    "```\n",
    "There's a number of options to refine the behaviour of the [iFind index](https://docs.intersystems.com/irislatest/csp/documatic/%25CSP.Documatic.cls?LIBRARY=%25SYS&CLASSNAME=%25iFind.Index.Basic), as well as more advanced (or basic) types wrt the text indexation, but let's stick with this for now."
   ]
  },
  {
   "cell_type": "code",
   "execution_count": 7,
   "id": "c923c186-9633-435d-912f-f6d12e3aa34c",
   "metadata": {
    "execution": {
     "iopub.execute_input": "2024-12-19T14:42:44.905498Z",
     "iopub.status.busy": "2024-12-19T14:42:44.905027Z",
     "iopub.status.idle": "2024-12-19T14:42:47.708532Z",
     "shell.execute_reply": "2024-12-19T14:42:47.707824Z",
     "shell.execute_reply.started": "2024-12-19T14:42:44.905469Z"
    }
   },
   "outputs": [],
   "source": [
    "res = connection.execute(text(\"\"\"CREATE INDEX ifind ON scotch_reviews(description) AS %iFind.Index.Basic\"\"\"))"
   ]
  },
  {
   "cell_type": "markdown",
   "id": "49629218-21a0-4557-b188-34c824785ab5",
   "metadata": {},
   "source": [
    "Creating an index through DDL will automatically build it, so there's nothing extra to do here.\n",
    "Now we can query the index using rich fulltext search, including phrase search, wildcard search, fuzzy search, and more (syntax options are described [here](https://docs.intersystems.com/irislatest/csp/documatic/%25CSP.Documatic.cls?LIBRARY=%25SYS&CLASSNAME=%25iFind.Index.Basic)):\n",
    "\n",
    "```SQL\n",
    "SELECT name, description FROM scotch_reviews WHERE %ID %FIND search_index(ifind, 'chocolate AND coffee');\n",
    "SELECT name, description FROM scotch_reviews WHERE %ID %FIND search_index(ifind, 'caramel*');\n",
    "SELECT name, description FROM scotch_reviews WHERE %ID %FIND search_index(ifind, 'scootish', 3); -- fuzzy search\n",
    "```"
   ]
  },
  {
   "cell_type": "markdown",
   "id": "091d1571-277d-48f9-82ab-e8f4c43ab9a9",
   "metadata": {},
   "source": [
    "## Creating a Hybrid Search query\n",
    "\n",
    "Next, we'll need to create a vector for our search string using the same embedding model used for populating the `description_vector` column in our table."
   ]
  },
  {
   "cell_type": "code",
   "execution_count": 8,
   "id": "1f895a45",
   "metadata": {
    "execution": {
     "iopub.execute_input": "2024-12-19T14:42:51.843681Z",
     "iopub.status.busy": "2024-12-19T14:42:51.843300Z",
     "iopub.status.idle": "2024-12-19T14:42:56.225429Z",
     "shell.execute_reply": "2024-12-19T14:42:56.223589Z",
     "shell.execute_reply.started": "2024-12-19T14:42:51.843652Z"
    }
   },
   "outputs": [],
   "source": [
    "from sentence_transformers import SentenceTransformer\n",
    "\n",
    "model = SentenceTransformer('all-MiniLM-L6-v2') \n",
    "search_vector = model.encode(\"vanilla\", normalize_embeddings=True).tolist()"
   ]
  },
  {
   "cell_type": "markdown",
   "id": "8f25f84e-663a-4fcc-ab2c-9a3c2608ff31",
   "metadata": {},
   "source": [
    "\n",
    "\n",
    "And now we can start building our hybrid search query:"
   ]
  },
  {
   "cell_type": "code",
   "execution_count": null,
   "id": "9067cbef-6bed-4c50-ac26-d20882fd96e0",
   "metadata": {
    "execution": {
     "iopub.execute_input": "2024-12-19T14:56:04.661997Z",
     "iopub.status.busy": "2024-12-19T14:56:04.661525Z",
     "iopub.status.idle": "2024-12-19T14:56:05.219010Z",
     "shell.execute_reply": "2024-12-19T14:56:05.217203Z",
     "shell.execute_reply.started": "2024-12-19T14:56:04.661969Z"
    }
   },
   "outputs": [],
   "source": [
    "sql = text(\"\"\"\n",
    "    WITH \n",
    "    \n",
    "    filtered AS (\n",
    "       SELECT %ID AS ID, * FROM scotch_reviews\n",
    "       WHERE %ID %FIND search_index(ifind, 'vanilla')\n",
    "    ),\n",
    "    \n",
    "    scored AS (\n",
    "       SELECT name, category, description,\n",
    "          scotchreviews_ifindrank(ID, 'vanilla') AS IFindScore,\n",
    "          vector_cosine(description_vector, TO_VECTOR(:search_vec ,FLOAT)) AS VectorScore\n",
    "       FROM filtered\n",
    "    ), \n",
    "    \n",
    "    with_rank AS (\n",
    "       SELECT *,\n",
    "          RANK() OVER (ORDER BY IFindScore DESC) AS IFindRank,\n",
    "          RANK() OVER (ORDER BY VectorScore DESC) AS VectorRank\n",
    "       FROM scored\n",
    "    ),\n",
    "\n",
    "    -- using k = 10\n",
    "    full_score AS (\n",
    "        SELECT *, (1/(IFindRank + 10) + 1/(VectorRank + 10)) AS Score\n",
    "        FROM with_rank\n",
    "    )\n",
    "    \n",
    "    SELECT TOP 10 * \n",
    "    FROM full_score \n",
    "    ORDER BY Score desc\"\"\")\n",
    "\n",
    "# alternatively, you can filter using vector similarity search:\n",
    "#    filtered AS (\n",
    "#        SELECT TOP 100 %ID AS ID, * FROM scotch_reviews\n",
    "#        ORDER BY vector_cosine(description_vector, TO_VECTOR(:search_vec ,FLOAT)) DESC\n",
    "#    ),\n",
    "\n",
    "result = connection.execute(sql, { \"search_vec\": str(search_vector) }).fetchall()\n",
    "df = pd.DataFrame(result)\n",
    "pd.set_option('display.max_colwidth', None)  # Easier to read description\n",
    "df.head()"
   ]
  },
  {
   "cell_type": "markdown",
   "id": "f8f94c22-0f18-407c-bbd1-6d75268f2e30",
   "metadata": {},
   "source": [
    "\n",
    "## Creating the table manually\n",
    "\n",
    "If you're of the more adventurous type, why not create everything from scratch using the most recent `EMBEDDING()` datatype and function ([documented here](https://docs.intersystems.com/irislatest/csp/docbook/DocBook.UI.Page.cls?KEY=GSQL_vecsearch#GSQL_vecsearch_insembed))?\n",
    "To do so, we'll first need to create an embedding configuration, which we can then refer to when creating our column. Embedding configurations are simple SQL rows in the `%Embedding.Config` table:\n",
    "\n",
    "```SQL\n",
    "INSERT INTO %Embedding.Config (Name, EmbeddingClass, Configuration, VectorLength, Description) \n",
    "    VALUES ('my-sentence-transformers', '%Embedding.SentenceTransformers', '{\"modelName\": \"all-MiniLM-L6-v2\"}', 384, 'SentenceTransformers \"all-MiniLM-L6-v2\" model')\n",
    "```\n",
    "\n",
    "Now create the table and load the data:\n",
    "\n",
    "```SQL\n",
    "CREATE TABLE hybrid.scotch_reviews (\n",
    "    name VARCHAR(255),\n",
    "    category VARCHAR(255),\n",
    "    review_point INT,\n",
    "    price DOUBLE,\n",
    "    currency VARCHAR(10),\n",
    "    description VARCHAR(2000),\n",
    "    description_embedding EMBBEDDING('description', 'my-sentence-transformers')\n",
    ")\n",
    "\n",
    "LOAD DATA FROM '~/data/scotch_review.csv'\n",
    "        COLUMNS (\n",
    "            id INT,\n",
    "            name VARCHAR(255),\n",
    "            category VARCHAR(255),\n",
    "            review_point INT,\n",
    "            price DOUBLE,\n",
    "            currency VARCHAR(10),\n",
    "            description VARCHAR(2000)\n",
    "        )\n",
    "        INTO hybrid.scotch_reviews (name, category, review_point, price, description)\n",
    "            VALUES (name, category, review_point, price, description)\n",
    "        USING { \"from\" : { \"file\" : { \"header\" : 1 } } } \n",
    "```\n",
    "\n",
    "Depending on how you mounted this demo, you may need to copy the data file to load from into the container for the `LOAD DATA` command to work:\n",
    "```Shell\n",
    "docker cp ./data/scotch_review.csv iris-vector-search-iris-1:/tmp/\n",
    "```\n",
    "\n",
    "Now we can create our iFind index, and if you are on 2025.1, you can also add an Approximate Nearest Neighbour index:\n",
    "```SQL\n",
    "CREATE INDEX ifind ON hybrid.scotch_reviews(description) AS %iFind.Index.Basic;\n",
    "\n",
    "-- only on 2025.1!\n",
    "CREATE INDEX hnsw ON hybrid.scotch_reviews(description_emb) AS HNSW;\n",
    "```\n",
    "\n",
    "And now our query becomes (note the small changes in table and embedding column names):\n",
    "```SQL\n",
    "WITH \n",
    "\n",
    "filtered_text AS (\n",
    "   SELECT %ID AS ID, * FROM hybrid.scotch_reviews\n",
    "   WHERE %ID %FIND search_index(ifind, 'vanilla')\n",
    "),\n",
    "\n",
    "filtered_vec AS (\n",
    "    SELECT TOP 100 %ID AS ID, * FROM hybrid.scotch_reviews\n",
    "    ORDER BY vector_cosine(description_emb, EMBEDDING('vanilla')) DESC\n",
    "),\n",
    "\n",
    "scored AS (\n",
    "   SELECT name, category, description,\n",
    "      hybrid.scotchreviews_ifindrank(ID, 'vanilla') AS IFindScore,\n",
    "      vector_cosine(description_emb, EMBEDDING('vanilla')) AS VectorScore\n",
    "   FROM filtered_text\n",
    "), \n",
    "\n",
    "with_rank AS (\n",
    "   SELECT *,\n",
    "      RANK() OVER (ORDER BY IFindScore DESC) AS IFindRank,\n",
    "      RANK() OVER (ORDER BY VectorScore DESC) AS VectorRank\n",
    "   FROM scored\n",
    "),\n",
    "\n",
    "-- using k = 10\n",
    "full_score AS (\n",
    "    SELECT *, (1/(IFindRank + 10) + 1/(VectorRank + 10)) AS Score\n",
    "    FROM with_rank\n",
    ")\n",
    "\n",
    "SELECT TOP 10 * \n",
    "FROM full_score \n",
    "ORDER BY Score desc\n",
    "```"
   ]
  }
 ],
 "metadata": {
  "kernelspec": {
   "display_name": "Python 3",
   "language": "python",
   "name": "python3"
  },
  "language_info": {
   "codemirror_mode": {
    "name": "ipython",
    "version": 3
   },
   "file_extension": ".py",
   "mimetype": "text/x-python",
   "name": "python",
   "nbconvert_exporter": "python",
   "pygments_lexer": "ipython3",
   "version": "3.13.1"
  }
 },
 "nbformat": 4,
 "nbformat_minor": 5
}
